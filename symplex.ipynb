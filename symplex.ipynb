{
 "cells": [
  {
   "cell_type": "markdown",
   "metadata": {},
   "source": [
    "# Симплекс-метод 🤔\n",
    "\n",
    "## Что такое задача ЛП\n",
    "\n",
    "### Общий вид задачи ЛП\n",
    "\n",
    "$$X=(x_1,x_2,\\dots,x_n)^r \\in R^n$$\n",
    "_X_ - переменные\n",
    "$$A=\\begin{pmatrix}\n",
    " a_{1,1} & \\cdots & a_{1,n} \\\\\n",
    "\\vdots & \\ddots & \\vdots \\\\\n",
    "a_{m,1} & \\cdots & a_{m,n} \n",
    "\\end{pmatrix}=(A_1,\\dots,A_n)$$\n",
    "_A_ - коэфициенты\n",
    "$$f(x)=cx=<c,x>=\\sum^n_{j=1}c_jx_j\\to extr$$\n",
    "_f(x)_ куда-то стремится\n",
    "$$\\begin{cases}\n",
    "\\sum^n_{j=1}a_{ij}x_j<=b_i,i=1\\dots r_1 \\\\\n",
    "\\sum^n_{j=1}a_{ij}x_j>=b_i,i=1+r_1\\dots r_2 \\\\\n",
    "\\sum^n_{j=1}a_{ij}x_j=b_i,i=1+r_2\\dots m \n",
    "\\end{cases}$$\n",
    "Есть какие-то ограничения\n",
    "### Каноническая форма\n",
    "$$f(x) \\to extr \\\\\n",
    "AX = b \\\\\n",
    "X>=0, b>=0$$\n",
    "Ограничения сводятся к равенствам, _иксы_ и правые части огранечений неотрицательны\n",
    "\n",
    "__Любая задача сводится к канонической__\n",
    "\n",
    "- Неравенства с отрицательными $b_i$ умножаем на (-1).\n",
    "- Если неравенство вида ($<=$), то к левой части добавляем $s_i$ – добавочную переменную, и получаем равенство.\n",
    "- Если неравенство вида ($>=$), то из левой части вычитаем $s_i$, и получаем равенство.\n",
    "- Делаем замену переменных: \\\n",
    "Если $x_i ≤ 0$, то $x_i'= -x_i ≥ 0$ \\\n",
    "Если $x_i$ — любой, то $x_i= x_i' - x_i''$, где $x_i', x_i''≥ 0$\n",
    "\n",
    "## Собственно симплекс-метод\n",
    "\n",
    "### Что нужно\n",
    "\n",
    "Для того, чтобы применить симлекс-метод для решения задачи, необходимо выполнение следующих условий:\n",
    "- Задача должна иметь каноническую форму.\n",
    "- У задачи должен быть базис.\n",
    "\n",
    "Базис - множество таких $x_i$, что в соответствующих им столбцах матрицы $A_i$, находится одна $1$ и все остальные $0$. При этом кол-во $x_i$ - состовляющих базиса равно числу строк в матрице $A$, для каждой строки в этой матрице в базисе значение $1$ имеет только один $x_i$\n",
    "\n",
    "### Как оно работает\n",
    "\n",
    "Оптимальное решение в задачах ЛП всегда лежит на угловой точке. \\\n",
    "Симплекс метод позволяет эффективно найти решение задачи путём перемещения между этими точками.\n",
    "Начиная решения с точки, соответствующей начальному базису, в ходе решения задачи изменяется базис (т.е. происходит перемещение между угловыми точками).\n",
    "\n",
    "Алгоритм:\n",
    "\n",
    "- Находим переменную, которую будем вводить в базис:\n",
    "    \n",
    "    - Находим оценку для каждой переменной.\n",
    "    - При решении задачи на максимизацию, вводиться будет переменная с максимальной положительной оценкой. \\\n",
    "    При решении задачи на минимизацию, вводиться будет переменная с минимальной отрицательной оценкой. \n",
    "    \n",
    "    Здесь в базис вводится переменная, изменение которой _лучше_ всего влияет на измененние функции.\n",
    "\n",
    "- Находим переменную, которую будем убирать из базиса:\n",
    "    - Столбец правых частей $b$ почленно делим на соответствующий вводимому элементу ($x_i$), столбец $A_i$.\n",
    "    - Выбираем минимальный положительный элемент.\n",
    "\n",
    "- Переходим к новому базису:\n",
    "    - Используем метод Жордана-Гаусса и получаем новый базис, новый вектор правых частей $b$, и новые коэфициенты $A$.\n",
    "\n",
    "- Проверяем оценки:\n",
    "    - Если среди оценок для новых данных есть позволяющие перейти к следующей итерации - переходим, иначе - решение получено.\n",
    "\n",
    "### Как мы его заставили работать\n",
    "\n",
    "Т.к. нет ничего интересного в том, чтобы разбирать строку с данными, приводить задачу к каноническому виду, рассматривать случаи максимизации и минимизации (реализован только первый) или проверять данные на соответствие условью (_если есть ошибка - данные неверны?_), то мы будет взаимодействовать с изначально подготовленными данными:\n",
    "- Функция для оптимизации - _набора_ коэфициентов при переменных.\n",
    "- Коэфициентами в ограничивающих функциях - опять же _набор наборов_ коэфициентов, но двумерный.\n",
    "- Правая часть ограничений - _набор_ чисел.\n",
    "- Базис - _набор_ битовых значений, размерность которого соответствует размерности _набора_ коэфициентов функции:\n",
    "    - 0 - переменная не принадлежит к базису.\n",
    "    - 1 - переменная принадлежит к базису.\n",
    " \n",
    "Далее благодоря набору функций, работаем с данными, меняем базисы пока нас всё не устраивает...\n",
    "\n",
    " _Известно, что так делать не хорошо, но _набор_ - обычный питоновский список, оптимизация всё-таки не важна._ \\\n",
    " _P.S. прошу прощения за всё, что написано выше, наверное можно было и лучше объяснить_ \\\n",
    " _P.P.S Также заранее прошу прощения за всё, что написано ниже._ "
   ]
  },
  {
   "cell_type": "code",
   "execution_count": 2,
   "metadata": {},
   "outputs": [],
   "source": [
    "# Данные\n",
    "function = [4, 5, 4, 0, 0, 0]\n",
    "\n",
    "factors = [[2, 3, 6, 1, 0, 0],\n",
    "           [4, 2, 4, 0, 1, 0],\n",
    "           [4, 6, 8, 0, 0, 1]]\n",
    "\n",
    "basis = [0, 0, 0, 1, 1, 1]\n",
    "\n",
    "solutions = [240, 200, 160]\n"
   ]
  },
  {
   "cell_type": "code",
   "execution_count": 3,
   "metadata": {},
   "outputs": [
    {
     "name": "stdout",
     "output_type": "stream",
     "text": [
      "+-------+-----------+-----------+-----------+-----------+-----------+-----------+-----------+\n",
      "|   f   =   4.00    +   5.00    +   4.00    +   0.00    +   0.00    +   0.00    =\u001b[31m   0.00    \u001b[0m|\n",
      "|  x =  (   0.00    ,   0.00    ,   0.00    ,  240.00   ,  200.00   ,  160.00   )           |\n",
      "+-------+-----------+-----------+-----------+-----------+-----------+-----------+-----------+\n",
      "|       |    x1     |    x2     |    x3     |    x4     |    x5     |    x6     |           |\n",
      "|  x4   |   2.00    |   3.00    |   6.00    |   1.00    |   0.00    |   0.00    |  240.00   |\n",
      "|  x5   |   4.00    |   2.00    |   4.00    |   0.00    |   1.00    |   0.00    |  200.00   |\n",
      "|  x6   |   4.00    |   6.00    |   8.00    |   0.00    |   0.00    |   1.00    |  160.00   |\n",
      "+-------+-----------+-----------+-----------+-----------+-----------+-----------+-----------+\n",
      "|   Δ   |   -4.00   |   -5.00   |   -4.00   |   0.00    |   0.00    |   0.00    |           |\n",
      "+-------+-----------+-----------+-----------+-----------+-----------+-----------+-----------+\n"
     ]
    }
   ],
   "source": [
    "from termcolor import colored\n",
    "\n",
    "# Находим те индексы которые относятся к базису ([0, 0, 1, 1, 1] -> [2, 3, 4])\n",
    "def calc_basis_indexes(basis: list) -> list:\n",
    "    return list(filter(lambda x: x != -1, map(lambda x: x if basis[x] else -1, range(len(basis)))))\n",
    "\n",
    "\n",
    "# Считаем оценку, позволяющую понять, что следует ввести в базис или найдено ли оптимальное решение\n",
    "def calculate_costs(function, basis, factors):\n",
    "    costs = []\n",
    "    basis_indexes = calc_basis_indexes(basis)\n",
    "    for i in range(len(function)):\n",
    "        subtotal = -function[i]\n",
    "        for j in range(len(basis_indexes)):\n",
    "            subtotal += function[basis_indexes[j]] * factors[j][i]\n",
    "        costs.append(subtotal)\n",
    "    return costs\n",
    "# Дополняем наш вектор решений нулями\n",
    "def extend_solutions(solutions, basis):\n",
    "    res = list(solutions)\n",
    "    for i in range(len(basis)):\n",
    "        if basis[i] == 0:\n",
    "            res.insert(i, 0)\n",
    "    return res\n",
    "\n",
    "\n",
    "# Тут должно быть очевидно\n",
    "def dot_product(op1, op2):\n",
    "    return [op1[i] * op2[i] for i in range(len(op1))]\n",
    "\n",
    "\n",
    "# Какой-никакой, но форматированный вывод\n",
    "def print_table(function, factors, basis, solutions, end=False):\n",
    "    func = [f\"{i:^11.2f}\" for i in function]\n",
    "    fact = [[f\"{j:^11.2f}\" for j in i] for i in factors]\n",
    "    sols = extend_solutions(solutions, basis)\n",
    "    sols.append(sum(dot_product(sols, function)))\n",
    "    sols = [f\"{i:^11.2f}\" for i in sols]\n",
    "    basis_indexes = calc_basis_indexes(basis)\n",
    "    bas = [f\"|  x{i+1:<3d} \" for i in basis_indexes]\n",
    "    separator = \"+-------\"+\"+-----------\"*(len(func)+1)+\"+\"\n",
    "    costs = [f\"{i:^11.2f}\" for i in calculate_costs(\n",
    "        function, basis, factors)]\n",
    "    print(separator)\n",
    "    print(\"|   f   =\" + \"+\".join(func) + \"=\" +\n",
    "          colored(sols[-1], \"green\" if end else 'red')+\"|\")\n",
    "    print(\"|  x =  (\" + \",\".join(sols[:-1]) + \")\" + \"           |\")\n",
    "    print(separator)\n",
    "    print(\"|      \", *\n",
    "          [f\"|    x{i+1:<5d}\" for i in range(len(func))], \"|           |\")\n",
    "    for i in range(len(fact)):\n",
    "        print(bas[i], *fact[i], sols[basis_indexes[i]], sep=\"|\", end=\"|\\n\")\n",
    "    print(separator)\n",
    "    print(\"|   Δ   \", *costs, \"           \", sep=\"|\", end=\"|\\n\")\n",
    "    print(separator)\n",
    "\n",
    "print_table(function, factors, basis, solutions)"
   ]
  },
  {
   "cell_type": "code",
   "execution_count": 12,
   "metadata": {},
   "outputs": [
    {
     "data": {
      "text/plain": [
       "[-4, -5, -4, 0, 0, 0]"
      ]
     },
     "execution_count": 12,
     "metadata": {},
     "output_type": "execute_result"
    }
   ],
   "source": [
    "calculate_costs(function, basis, factors)"
   ]
  },
  {
   "cell_type": "code",
   "execution_count": 13,
   "metadata": {},
   "outputs": [
    {
     "data": {
      "text/plain": [
       "1"
      ]
     },
     "execution_count": 13,
     "metadata": {},
     "output_type": "execute_result"
    }
   ],
   "source": [
    "# Находим, что добавить\n",
    "def index_of_min(in_):\n",
    "    return in_.index(min(in_))\n",
    "\n",
    "index_to_add = index_of_min(calculate_costs(function, basis, factors))\n",
    "index_to_add"
   ]
  },
  {
   "cell_type": "code",
   "execution_count": 14,
   "metadata": {},
   "outputs": [
    {
     "data": {
      "text/plain": [
       "2"
      ]
     },
     "execution_count": 14,
     "metadata": {},
     "output_type": "execute_result"
    }
   ],
   "source": [
    "# Ищем какой элемент следует убрать из базиса\n",
    "def find_index_to_remove(index_to_add: int, factors: list, solutions: list) -> int:\n",
    "    min_value = 0\n",
    "    min_index = 0\n",
    "    while not min_value:\n",
    "        if factors[min_index][index_to_add] > 0:\n",
    "            min_value = solutions[min_index] / factors[min_index][index_to_add]\n",
    "        min_index += 1\n",
    "    min_index -= 1\n",
    "    for i in range(min_index, len(solutions)):\n",
    "        if factors[i][index_to_add]:\n",
    "            value = solutions[i] / factors[i][index_to_add]\n",
    "            if value < min_value and value > 0:\n",
    "                min_value = value\n",
    "                min_index = i\n",
    "    return min_index\n",
    "\n",
    "index_to_remove = find_index_to_remove(index_to_add, factors, solutions)\n",
    "index_to_remove"
   ]
  },
  {
   "cell_type": "code",
   "execution_count": 15,
   "metadata": {},
   "outputs": [],
   "source": [
    "# Меняем базис\n",
    "def change_basis(index_to_add, index_to_remove, basis, factors, solutions):\n",
    "    new_factors = []\n",
    "    new_solutions = []\n",
    "    basis[calc_basis_indexes(basis)[index_to_remove]] = 0\n",
    "    basis[index_to_add] = 1\n",
    "    new_index_position = basis[:index_to_add].count(1)\n",
    "    solutions[index_to_remove] /= factors[index_to_remove][index_to_add]\n",
    "    factors[index_to_remove] = [i / factors[index_to_remove][index_to_add]\n",
    "                                for i in factors[index_to_remove]]\n",
    "    for i in range(len(factors)):\n",
    "        if i != index_to_remove:\n",
    "            new_factors.append([factors[i][j] - factors[index_to_remove]\n",
    "                               [j] * factors[i][index_to_add] for j in range(len(factors[i]))])\n",
    "            new_solutions.append(solutions[i] - solutions[index_to_remove]\n",
    "                                 * factors[i][index_to_add])\n",
    "    new_solutions.insert(new_index_position, solutions[index_to_remove])\n",
    "    new_factors.insert(new_index_position, factors[index_to_remove])\n",
    "    return new_factors, new_solutions, basis\n",
    "\n",
    "factors, solutions, basis = change_basis(index_to_add, index_to_remove, basis, factors, solutions)"
   ]
  },
  {
   "cell_type": "code",
   "execution_count": 16,
   "metadata": {},
   "outputs": [
    {
     "name": "stdout",
     "output_type": "stream",
     "text": [
      "+-------+-----------+-----------+-----------+-----------+-----------+-----------+-----------+\n",
      "|   f   =   4.00    +   5.00    +   4.00    +   0.00    +   0.00    +   0.00    =\u001b[31m  133.33   \u001b[0m|\n",
      "|  x =  (   0.00    ,   26.67   ,   0.00    ,  160.00   ,  146.67   ,   0.00    )           |\n",
      "+-------+-----------+-----------+-----------+-----------+-----------+-----------+-----------+\n",
      "|       |    x1     |    x2     |    x3     |    x4     |    x5     |    x6     |           |\n",
      "|  x2   |   0.67    |   1.00    |   1.33    |   0.00    |   0.00    |   0.17    |   26.67   |\n",
      "|  x4   |   0.00    |   0.00    |   2.00    |   1.00    |   0.00    |   -0.50   |  160.00   |\n",
      "|  x5   |   2.67    |   0.00    |   1.33    |   0.00    |   1.00    |   -0.33   |  146.67   |\n",
      "+-------+-----------+-----------+-----------+-----------+-----------+-----------+-----------+\n",
      "|   Δ   |   -0.67   |   0.00    |   2.67    |   0.00    |   0.00    |   0.83    |           |\n",
      "+-------+-----------+-----------+-----------+-----------+-----------+-----------+-----------+\n",
      "+-------+-----------+-----------+-----------+-----------+-----------+-----------+-----------+\n",
      "|   f   =   4.00    +   5.00    +   4.00    +   0.00    +   0.00    +   0.00    =\u001b[32m  160.00   \u001b[0m|\n",
      "|  x =  (   40.00   ,   0.00    ,   0.00    ,  160.00   ,   40.00   ,   0.00    )           |\n",
      "+-------+-----------+-----------+-----------+-----------+-----------+-----------+-----------+\n",
      "|       |    x1     |    x2     |    x3     |    x4     |    x5     |    x6     |           |\n",
      "|  x1   |   1.00    |   1.50    |   2.00    |   0.00    |   0.00    |   0.25    |   40.00   |\n",
      "|  x4   |   0.00    |   0.00    |   2.00    |   1.00    |   0.00    |   -0.50   |  160.00   |\n",
      "|  x5   |   0.00    |   -4.00   |   -4.00   |   0.00    |   1.00    |   -1.00   |   40.00   |\n",
      "+-------+-----------+-----------+-----------+-----------+-----------+-----------+-----------+\n",
      "|   Δ   |   0.00    |   1.00    |   4.00    |   0.00    |   0.00    |   1.00    |           |\n",
      "+-------+-----------+-----------+-----------+-----------+-----------+-----------+-----------+\n"
     ]
    }
   ],
   "source": [
    "# И далее - в цикле\n",
    "while any(map(lambda x: x < 0, calculate_costs(function, basis, factors))):\n",
    "    print_table(function, factors, basis, solutions)\n",
    "    index_to_add = index_of_min(calculate_costs(function, basis, factors))\n",
    "    index_to_remove = find_index_to_remove(index_to_add, factors, solutions)\n",
    "    factors, solutions, basis = change_basis(index_to_add, index_to_remove, basis, factors, solutions)\n",
    "print_table(function, factors, basis, solutions, True)"
   ]
  },
  {
   "cell_type": "markdown",
   "metadata": {},
   "source": [
    "_вуаля_"
   ]
  }
 ],
 "metadata": {
  "interpreter": {
   "hash": "602f8461da5ca99708f6bce605b729ab19e0675f3d677d9614cecbee9cb7f9c9"
  },
  "kernelspec": {
   "display_name": "Python 3 (ipykernel)",
   "language": "python",
   "name": "python3"
  },
  "language_info": {
   "codemirror_mode": {
    "name": "ipython",
    "version": 3
   },
   "file_extension": ".py",
   "mimetype": "text/x-python",
   "name": "python",
   "nbconvert_exporter": "python",
   "pygments_lexer": "ipython3",
   "version": "3.10.0"
  }
 },
 "nbformat": 4,
 "nbformat_minor": 2
}
